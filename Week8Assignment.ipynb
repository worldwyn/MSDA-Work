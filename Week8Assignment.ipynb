{
 "metadata": {
  "name": "",
  "signature": "sha256:4ea58da3929fd5a3ee79b2c655bc36fe72e092aa2db740abf8ed67e03b659aed"
 },
 "nbformat": 3,
 "nbformat_minor": 0,
 "worksheets": [
  {
   "cells": [
    {
     "cell_type": "code",
     "collapsed": false,
     "input": [
      "\n",
      "cur.execute(\"\"\"SELECT PassNumber, LastName, FirstName, BoatNumber FROM Passenger\"\"\")\n",
      "for row in cur:\n",
      "    print row\n",
      "    \n",
      "\n",
      "cur.execute(\"\"\"SELECT BoatNumber, Officer, FROM LifeBoat\"\"\")\n",
      "for row in cur:\n",
      "    print row"
     ],
     "language": "python",
     "metadata": {},
     "outputs": []
    },
    {
     "cell_type": "code",
     "collapsed": false,
     "input": [
      "import sqlite3\n",
      "conn = sqlite3.connect(\"titanic.sqlite3\")\n",
      "cur = conn.cursor()\n",
      "cur.execute(\"\"\"DROP TABLE IF EXISTS Passenger\"\"\")\n",
      "cur.execute(\"\"\"DROP TABLE IF EXISTS LifeBoat\"\"\")"
     ],
     "language": "python",
     "metadata": {},
     "outputs": []
    },
    {
     "cell_type": "code",
     "collapsed": false,
     "input": [
      "cur.execute(\"\"\"CREATE\u00a0TABLE\u00a0Passenger\u00a0(\n",
      "PassNumber INTEGER primary key not NULL , \n",
      "LastName\u00a0TEXT,\u00a0\n",
      "FirstName TEXT, \n",
      "BoatNumber\u00a0INT)\"\"\")\n",
      "\n",
      "cur.execute(\"\"\"CREATE TABLE LifeBoat (\n",
      "BoatNumber INT primary key not NULL, \n",
      "Officer TEXT)\"\"\")\n",
      "            \n",
      "conn.close()     "
     ],
     "language": "python",
     "metadata": {},
     "outputs": []
    },
    {
     "cell_type": "code",
     "collapsed": false,
     "input": [
      "import sqlite3\n",
      "\n",
      "conn = sqlite3.connect(\"titanic.sqlite3\")\n",
      "cur = conn.cursor()\n",
      "\n",
      "cur.execute(\"\"\"INSERT INTO Passenger (PassNumber, LastName, FirstName, LifeBoat) VALUES ( ?, ? , ?, ?)\", (396, \"Ball\", \"Aida\", 8)\"\"\")\n",
      "cur.execute(\"\"\"INSERT INTO Passenger (PassNumber, LastName, FirstName, LifeBoat) VALUES ( ?, ? , ?, ?)\", (397, \"Bateman\", \"Robert\", 10)\"\"\")\n",
      "cur.execute(\"\"\"INSERT INTO Passenger (PassNumber, LastName, FirstName, LifeBoat) VALUES ( ?, ? , ?, ?)\", (47, \"Brown\", \"Molly\", 7)\"\"\")\n",
      "cur.execute(\"\"\"INSERT INTO LifeBoat (BoatNumber, Officer) VALUES ( ?, ?)\", (7, \"Murdoch\")\"\"\")\n",
      "cur.execute(\"\"\"INSERT INTO LifeBoat (BoatNumber, Officer) VALUES ( ?, ?)\", (8, \"Lightoller\")\"\"\")\n",
      "cur.execute(\"\"\"INSERT INTO LifeBoat (BoatNumber, Officer) VALUES ( ?, ?)\", (9, \"Murdoch\")\"\"\")\n",
      "cur.execute(\"\"\"INSERT INTO LifeBoat (BoatNumber, Officer) VALUES ( ?, ?)\", (10, \"Lightoller\")\"\"\")\n",
      "conn.commit()\n"
     ],
     "language": "python",
     "metadata": {},
     "outputs": []
    },
    {
     "cell_type": "code",
     "collapsed": false,
     "input": [
      "cur.execute(\"\"\"SELECT PassNumber, LastName, FirstName, BoatNumber FROM Passenger\"\"\")\n",
      "for row in cur:\n",
      "    print row\n",
      "    \n",
      "\n",
      "cur.execute(\"\"\"SELECT BoatNumber, Officer, FROM LifeBoat\"\"\")\n",
      "for row in cur:\n",
      "    print row"
     ],
     "language": "python",
     "metadata": {},
     "outputs": []
    },
    {
     "cell_type": "code",
     "collapsed": false,
     "input": [
      "cur.execute (\"\"\"select * from Passenger left join Passenger.BoatNumber = LifeBoat.BoatNumber\"\"\")\n",
      "\n",
      "for row in cur:\n",
      "    print (row)\n",
      "cur.close()\n",
      "conn.close()"
     ],
     "language": "python",
     "metadata": {},
     "outputs": []
    }
   ],
   "metadata": {}
  }
 ]
}