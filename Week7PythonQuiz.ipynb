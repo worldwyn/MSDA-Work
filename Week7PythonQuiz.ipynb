{
 "metadata": {
  "name": "",
  "signature": "sha256:e9c3c9d2035193b6904a93c4a01c914fe35e07e9b234aa9af33a2bdace8a7c96"
 },
 "nbformat": 3,
 "nbformat_minor": 0,
 "worksheets": [
  {
   "cells": [
    {
     "cell_type": "code",
     "collapsed": false,
     "input": [
      "from bs4 import BeautifulSoup\n",
      "import requests\n",
      "url = input('Enter the search URL :')\n",
      "re = requests.get(\"http://\"+url)"
     ],
     "language": "python",
     "metadata": {},
     "outputs": [
      {
       "name": "stdout",
       "output_type": "stream",
       "stream": "stdout",
       "text": [
        "Enter the search URL :audio-production-software-review.toptenreviews.com\n"
       ]
      }
     ],
     "prompt_number": 16
    },
    {
     "cell_type": "code",
     "collapsed": false,
     "input": [
      "data = re.text\n",
      "soup = BeautifulSoup(data)\n",
      "for link in soup.find_all('a'):\n",
      "    print(link.get('href'))"
     ],
     "language": "python",
     "metadata": {},
     "outputs": [
      {
       "output_type": "stream",
       "stream": "stdout",
       "text": [
        "http://www.omniture.com\n",
        "https://plus.google.com/107929450166905752549/?rel=author\n",
        "None\n",
        "http://audio-production-software-review.toptenreviews.com/reaper-review.html\n",
        "http://audio-production-software-review.toptenreviews.com/cubase-elements-review.html\n",
        "http://audio-production-software-review.toptenreviews.com/fl-studio-review.html\n",
        "http://audio-production-software-review.toptenreviews.com/learning-center.html\n",
        "learning-center.html\n",
        "http://audio-production-software-review.toptenreviews.com/reaper-review.html\n",
        "http://audio-production-software-review.toptenreviews.com/reaper-review.html\n",
        "http://audio-production-software-review.toptenreviews.com/audio-production-software-what-is-mastering.html\n",
        "http://audio-production-software-review.toptenreviews.com/audio-production-software-what-is-mastering.html\n",
        "http://audio-production-software-review.toptenreviews.com/how-to-get-started-in-post-production-audio.html\n",
        "http://audio-production-software-review.toptenreviews.com/how-to-get-started-in-post-production-audio.html\n",
        "http://www.toptenreviews.com/\n",
        "http://software.toptenreviews.com/\n",
        "http://electronics.toptenreviews.com/\n",
        "http://web-services.toptenreviews.com/\n",
        "http://mobile-technology.toptenreviews.com/\n",
        "http://appliances.toptenreviews.com/\n",
        "http://small-business.toptenreviews.com/\n",
        "http://auto-tech.toptenreviews.com/\n",
        "http://science-tech.toptenreviews.com/\n",
        "http://video.toptenreviews.com/\n",
        "javascript:;\n",
        "http://software.toptenreviews.com/\n",
        "http://software.toptenreviews.com/multimedia/\n",
        "index2.html\n",
        "reaper-review.html\n",
        "cubase-elements-review.html\n",
        "fl-studio-review.html\n",
        "pro-tools-review.html\n",
        "ableton-live-review.html\n",
        "reason-review.html\n",
        "adobe-audition-cc-review.html\n",
        "sonar-x3-review.html\n",
        "acid-music-studio-review.html\n",
        "studio-one-review.html\n",
        "reaper-review.html\n",
        "cubase-elements-review.html\n",
        "fl-studio-review.html\n",
        "pro-tools-review.html\n",
        "ableton-live-review.html\n",
        "reason-review.html\n",
        "adobe-audition-cc-review.html\n",
        "sonar-x3-review.html\n",
        "acid-music-studio-review.html\n",
        "studio-one-review.html\n",
        "reaper-review.html\n",
        "cubase-elements-review.html\n",
        "fl-studio-review.html\n",
        "pro-tools-review.html\n",
        "ableton-live-review.html\n",
        "reason-review.html\n",
        "adobe-audition-cc-review.html\n",
        "sonar-x3-review.html\n",
        "acid-music-studio-review.html\n",
        "studio-one-review.html\n",
        "http://www.toptenreviews.com/scripts/trans_id.php?url=http%3A%2F%2Fwww.reaper.fm%2Fpurchase.php&p_id=59935&param=&q_delimit=0\n",
        "http://www.toptenreviews.com/scripts/trans_id.php?url=http%3A%2F%2Fwww.kqzyfj.com%2Fclick-3609105-10562918%3Furl%3Dhttp%253A%252F%252Fwww.musiciansfriend.com%252FproductDetail%252FproductDetail.jsp%253FentSkuId%253DJ00173000000000%26cjsku%3DJ00173&p_id=59936&param=sid&q_delimit=1\n",
        "http://www.toptenreviews.com/scripts/trans_id.php?url=http%3A%2F%2Faffiliate.image-line.com%2FEJJCFFC491&p_id=3538&param=&q_delimit=0\n",
        "http://www.toptenreviews.com/scripts/trans_id.php?url=http%3A%2F%2Fwww.jdoqocy.com%2Fclick-3609105-11679823%3Furl%3Dhttp%253A%252F%252Fwww.musiciansfriend.com%252Fpro-audio%252Favid-mbox-3-and-pro-tools-express%252Fh81551000000000%26cjsku%3DH81551&p_id=59937&param=sid&q_delimit=1\n",
        "http://www.toptenreviews.com/scripts/trans_id.php?url=http%3A%2F%2Fwww.amazon.com%2Fgp%2Fproduct%2FB00AZ98Z8U%2Fref%3Das_li_ss_tl%3Fie%3DUTF8%26camp%3D1789%26creative%3D390957%26creativeASIN%3DB00AZ98Z8U%26linkCode%3Das2%26tag%3Dttr_audio_production_software-20&p_id=3534&param=&q_delimit=0\n",
        "http://www.toptenreviews.com/scripts/trans_id.php?url=http%3A%2F%2Fwww.amazon.com%2Fgp%2Fproduct%2FB00E\n"
       ]
      }
     ],
     "prompt_number": 17
    }
   ],
   "metadata": {}
  }
 ]
}